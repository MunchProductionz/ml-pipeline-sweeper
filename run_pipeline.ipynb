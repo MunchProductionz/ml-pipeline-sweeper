{
 "cells": [
  {
   "cell_type": "markdown",
   "id": "f1e84f32",
   "metadata": {},
   "source": [
    "# Run Pipeline"
   ]
  },
  {
   "cell_type": "code",
   "execution_count": 27,
   "id": "acc4f4a5",
   "metadata": {},
   "outputs": [],
   "source": [
    "import torch\n",
    "import torch.nn as nn\n",
    "import torch.optim as optim\n",
    "from torch.utils.data import Dataset, DataLoader\n",
    "import numpy as np\n",
    "from tqdm import tqdm\n",
    "from time import time\n",
    "\n",
    "device = torch.device(\"cuda\" if torch.cuda.is_available() else \"cpu\")"
   ]
  },
  {
   "cell_type": "code",
   "execution_count": 22,
   "id": "fead334b",
   "metadata": {},
   "outputs": [],
   "source": [
    "# Dummy Dataset\n",
    "class DummyDataset(Dataset):\n",
    "    def __init__(self, num_samples=1000):\n",
    "        self.X = np.random.rand(num_samples, 10).astype(np.float32)\n",
    "        self.y = np.ones(num_samples, dtype=np.float32)  # All labels are 1\n",
    "\n",
    "    def __len__(self):\n",
    "        return len(self.X)\n",
    "\n",
    "    def __getitem__(self, idx):\n",
    "        return torch.from_numpy(self.X[idx]), torch.tensor(self.y[idx])\n",
    "\n",
    "class DummyModel(nn.Module):\n",
    "    def __init__(self):\n",
    "        super(DummyModel, self).__init__()\n",
    "        self.dummy_weight = nn.Parameter(torch.tensor([[1.0]]))  # Learnable scalar\n",
    "\n",
    "    def forward(self, x):\n",
    "        batch_size = x.size(0)\n",
    "        x = self.dummy_weight.expand(batch_size, 1)\n",
    "        return x\n",
    "\n",
    "    \n",
    "# Linear model that ignores learned parameters and always returns 1\n",
    "class LinearModel1(nn.Module):\n",
    "    def __init__(self, input_dim=10, hidden_dim=32):\n",
    "        super(LinearModel1, self).__init__()\n",
    "        self.net = nn.Sequential(\n",
    "            nn.Linear(input_dim, hidden_dim),\n",
    "            nn.ReLU(),\n",
    "            nn.Linear(hidden_dim, 1)\n",
    "        )\n",
    "\n",
    "    def forward(self, x):\n",
    "        x = self.net(x)  # Compute, but discard the output\n",
    "        # only_ones = torch.ones(x.size(0), 1, device=x.device)  # Always return 1\n",
    "        return x\n",
    "    \n",
    "# Linear model that ignores learned parameters and always returns 1\n",
    "class LinearModel2(nn.Module):\n",
    "    def __init__(self, input_dim=10, hidden_dim=32):\n",
    "        super(LinearModel2, self).__init__()\n",
    "        self.net = nn.Sequential(\n",
    "            nn.Linear(input_dim, 1000),\n",
    "            nn.ReLU(),\n",
    "            nn.Linear(1000, hidden_dim),\n",
    "            nn.ReLU(),\n",
    "            nn.Linear(hidden_dim, 1)\n",
    "        )\n",
    "\n",
    "    def forward(self, x):\n",
    "        x = self.net(x)  # Compute, but discard the output\n",
    "        # only_ones = torch.ones(x.size(0), 1, device=x.device)  # Always return 1\n",
    "        return x\n",
    "\n",
    "# Training function with tqdm\n",
    "def train(model, dataloader, criterion, optimizer, device):\n",
    "    model.train()\n",
    "    total_loss = 0.0\n",
    "    loop = tqdm(dataloader, desc=\"Training\", leave=False)\n",
    "    for inputs, targets in loop:\n",
    "        inputs, targets = inputs.to(device), targets.to(device).unsqueeze(1)\n",
    "        optimizer.zero_grad()\n",
    "        outputs = model(inputs)\n",
    "        loss = criterion(outputs, targets)\n",
    "        loss.backward()\n",
    "        optimizer.step()\n",
    "        total_loss += loss.item() * inputs.size(0)\n",
    "        loop.set_postfix(loss=loss.item())\n",
    "    print(f\"Train Loss: {total_loss / len(dataloader.dataset):.4f}\")\n",
    "\n",
    "# Testing function with tqdm\n",
    "def test(model, dataloader, criterion, device):\n",
    "    model.eval()\n",
    "    total_loss = 0.0\n",
    "    correct = 0\n",
    "    loop = tqdm(dataloader, desc=\"Testing\", leave=False)\n",
    "    with torch.no_grad():\n",
    "        for inputs, targets in loop:\n",
    "            inputs, targets = inputs.to(device), targets.to(device).unsqueeze(1)\n",
    "            outputs = model(inputs)\n",
    "            loss = criterion(outputs, targets)\n",
    "            total_loss += loss.item() * inputs.size(0)\n",
    "            predicted = (outputs > 0.5).float()\n",
    "            correct += (predicted == targets).sum().item()\n",
    "            loop.set_postfix(loss=loss.item())\n",
    "    accuracy = correct / len(dataloader.dataset)\n",
    "    print(f\"Test Loss: {total_loss / len(dataloader.dataset):.4f}, Accuracy: {accuracy:.2f}\")\n",
    "\n",
    "# # Main script\n",
    "# if __name__ == \"__main__\":\n",
    "#     device = torch.device(\"cuda\" if torch.cuda.is_available() else \"cpu\")\n",
    "\n",
    "#     train_dataset = DummyDataset(num_samples=800)\n",
    "#     test_dataset = DummyDataset(num_samples=200)\n",
    "#     train_loader = DataLoader(train_dataset, batch_size=32, shuffle=True)\n",
    "#     test_loader = DataLoader(test_dataset, batch_size=32)\n",
    "\n",
    "#     model = DummyModel().to(device)\n",
    "#     criterion = nn.BCEWithLogitsLoss()\n",
    "#     optimizer = optim.SGD(model.parameters(), lr=0.01)  # Included for structure\n",
    "\n",
    "#     train(model, train_loader, criterion, optimizer, device)\n",
    "#     test(model, test_loader, criterion, device)\n"
   ]
  },
  {
   "cell_type": "code",
   "execution_count": 37,
   "id": "733a05dc",
   "metadata": {},
   "outputs": [],
   "source": [
    "class Trainer():\n",
    "    def __init__(self, model, train_loader, test_loader, criterion, optimizer, device):\n",
    "        self.model = model.to(device)\n",
    "        self.train_loader = train_loader\n",
    "        self.test_loader = test_loader\n",
    "        self.criterion = criterion\n",
    "        self.optimizer = optimizer\n",
    "        self.device = device\n",
    "        self.total_train_losses = []\n",
    "        self.total_test_losses = []\n",
    "\n",
    "    def run(self, epochs=10):\n",
    "        print(f\"### ----- Starting training for {epochs} epochs... ----- ###\")\n",
    "        start = time()\n",
    "        for epoch in tqdm(range(epochs)):\n",
    "            self.train(self.model, self.train_loader, self.criterion, self.optimizer, self.device)\n",
    "            self.test(self.model, self.test_loader, self.criterion, self.device)\n",
    "        end = time()\n",
    "        time_taken = end - start\n",
    "        print(f\"Final Train Loss: {self.total_train_losses[-1]} - Final Test Loss: {self.total_test_losses[-1]}\")\n",
    "        print(f\"### ----- Training complete. Took {time_taken// 60:.2f} min, {time_taken % 60:.2f} sec. ----- ###\")\n",
    "            \n",
    "    # Training function with tqdm\n",
    "    def train(self, model, dataloader, criterion, optimizer, device):\n",
    "        model.train()\n",
    "        total_loss = 0.0\n",
    "        for inputs, targets in dataloader:\n",
    "            inputs, targets = inputs.to(device), targets.to(device).unsqueeze(1)\n",
    "            optimizer.zero_grad()\n",
    "            outputs = model(inputs)\n",
    "            loss = criterion(outputs, targets)\n",
    "            loss.backward()\n",
    "            optimizer.step()\n",
    "            total_loss += loss.item() * inputs.size(0)\n",
    "        self.total_train_losses.append(total_loss / len(dataloader.dataset))\n",
    "        # print(f\"Train Loss: {total_loss / len(dataloader.dataset):.4f}\")\n",
    "\n",
    "    # Testing function with tqdm\n",
    "    def test(self, model, dataloader, criterion, device):\n",
    "        model.eval()\n",
    "        total_loss = 0.0\n",
    "        correct = 0\n",
    "        with torch.no_grad():\n",
    "            for inputs, targets in dataloader:\n",
    "                inputs, targets = inputs.to(device), targets.to(device).unsqueeze(1)\n",
    "                outputs = model(inputs)\n",
    "                loss = criterion(outputs, targets)\n",
    "                total_loss += loss.item() * inputs.size(0)\n",
    "                predicted = (outputs > 0.5).float()\n",
    "                correct += (predicted == targets).sum().item()\n",
    "        accuracy = correct / len(dataloader.dataset)\n",
    "        self.total_test_losses.append(total_loss / len(dataloader.dataset))\n",
    "        # print(f\"Test Loss: {total_loss / len(dataloader.dataset):.4f}, Accuracy: {accuracy:.2f}\")"
   ]
  },
  {
   "cell_type": "code",
   "execution_count": 18,
   "id": "b15b94b6",
   "metadata": {},
   "outputs": [
    {
     "name": "stderr",
     "output_type": "stream",
     "text": [
      "                                                                      \r"
     ]
    },
    {
     "name": "stdout",
     "output_type": "stream",
     "text": [
      "Train Loss: 0.3048\n"
     ]
    },
    {
     "name": "stderr",
     "output_type": "stream",
     "text": [
      "                                                          "
     ]
    },
    {
     "name": "stdout",
     "output_type": "stream",
     "text": [
      "Test Loss: 0.2960, Accuracy: 1.00\n"
     ]
    },
    {
     "name": "stderr",
     "output_type": "stream",
     "text": [
      "\r"
     ]
    }
   ],
   "source": [
    "train_dataset = DummyDataset(num_samples=800)\n",
    "test_dataset = DummyDataset(num_samples=200)\n",
    "train_loader = DataLoader(train_dataset, batch_size=32, shuffle=True)\n",
    "test_loader = DataLoader(test_dataset, batch_size=32)\n",
    "\n",
    "model = DummyModel().to(device)\n",
    "criterion = nn.BCEWithLogitsLoss()\n",
    "optimizer = optim.SGD(model.parameters(), lr=0.01)  # Included for structure\n",
    "\n",
    "train(model, train_loader, criterion, optimizer, device)\n",
    "test(model, test_loader, criterion, device)"
   ]
  },
  {
   "cell_type": "code",
   "execution_count": null,
   "id": "b17c9a95",
   "metadata": {},
   "outputs": [
    {
     "name": "stderr",
     "output_type": "stream",
     "text": [
      "                                                                      \r"
     ]
    },
    {
     "name": "stdout",
     "output_type": "stream",
     "text": [
      "Train Loss: 0.5121\n"
     ]
    },
    {
     "name": "stderr",
     "output_type": "stream",
     "text": [
      "                                                          "
     ]
    },
    {
     "name": "stdout",
     "output_type": "stream",
     "text": [
      "Test Loss: 0.4509, Accuracy: 0.76\n"
     ]
    },
    {
     "name": "stderr",
     "output_type": "stream",
     "text": [
      "\r"
     ]
    }
   ],
   "source": [
    "train_dataset = DummyDataset(num_samples=800)\n",
    "test_dataset = DummyDataset(num_samples=200)\n",
    "train_loader = DataLoader(train_dataset, batch_size=32, shuffle=True)\n",
    "test_loader = DataLoader(test_dataset, batch_size=32)\n",
    "\n",
    "model = LinearModel1().to(device)\n",
    "criterion = nn.BCEWithLogitsLoss()\n",
    "optimizer = optim.SGD(model.parameters(), lr=0.01)  # Included for structure\n",
    "\n",
    "train(model, train_loader, criterion, optimizer, device)\n",
    "test(model, test_loader, criterion, device)"
   ]
  },
  {
   "cell_type": "code",
   "execution_count": 23,
   "id": "8ecc4a67",
   "metadata": {},
   "outputs": [
    {
     "name": "stderr",
     "output_type": "stream",
     "text": [
      "                                                                      \r"
     ]
    },
    {
     "name": "stdout",
     "output_type": "stream",
     "text": [
      "Train Loss: 0.4773\n"
     ]
    },
    {
     "name": "stderr",
     "output_type": "stream",
     "text": [
      "                                                          "
     ]
    },
    {
     "name": "stdout",
     "output_type": "stream",
     "text": [
      "Test Loss: 0.2717, Accuracy: 1.00\n"
     ]
    },
    {
     "name": "stderr",
     "output_type": "stream",
     "text": [
      "\r"
     ]
    }
   ],
   "source": [
    "train_dataset = DummyDataset(num_samples=800)\n",
    "test_dataset = DummyDataset(num_samples=200)\n",
    "train_loader = DataLoader(train_dataset, batch_size=32, shuffle=True)\n",
    "test_loader = DataLoader(test_dataset, batch_size=32)\n",
    "\n",
    "model = LinearModel2().to(device)\n",
    "criterion = nn.BCEWithLogitsLoss()\n",
    "optimizer = optim.SGD(model.parameters(), lr=0.01)  # Included for structure\n",
    "\n",
    "train(model, train_loader, criterion, optimizer, device)\n",
    "test(model, test_loader, criterion, device)"
   ]
  },
  {
   "cell_type": "code",
   "execution_count": 25,
   "id": "27608b33",
   "metadata": {},
   "outputs": [
    {
     "name": "stdout",
     "output_type": "stream",
     "text": [
      "Epoch 1/10\n"
     ]
    },
    {
     "name": "stderr",
     "output_type": "stream",
     "text": [
      "                                                                     \r"
     ]
    },
    {
     "name": "stdout",
     "output_type": "stream",
     "text": [
      "Train Loss: 0.4860\n"
     ]
    },
    {
     "name": "stderr",
     "output_type": "stream",
     "text": [
      "                                                          \r"
     ]
    },
    {
     "name": "stdout",
     "output_type": "stream",
     "text": [
      "Test Loss: 0.2792, Accuracy: 1.00\n",
      "Epoch 2/10\n"
     ]
    },
    {
     "name": "stderr",
     "output_type": "stream",
     "text": [
      "                                                                      \r"
     ]
    },
    {
     "name": "stdout",
     "output_type": "stream",
     "text": [
      "Train Loss: 0.1765\n"
     ]
    },
    {
     "name": "stderr",
     "output_type": "stream",
     "text": [
      "                                                          \r"
     ]
    },
    {
     "name": "stdout",
     "output_type": "stream",
     "text": [
      "Test Loss: 0.1077, Accuracy: 1.00\n",
      "Epoch 3/10\n"
     ]
    },
    {
     "name": "stderr",
     "output_type": "stream",
     "text": [
      "                                                                       \r"
     ]
    },
    {
     "name": "stdout",
     "output_type": "stream",
     "text": [
      "Train Loss: 0.0761\n"
     ]
    },
    {
     "name": "stderr",
     "output_type": "stream",
     "text": [
      "                                                           \r"
     ]
    },
    {
     "name": "stdout",
     "output_type": "stream",
     "text": [
      "Test Loss: 0.0554, Accuracy: 1.00\n",
      "Epoch 4/10\n"
     ]
    },
    {
     "name": "stderr",
     "output_type": "stream",
     "text": [
      "                                                                       \r"
     ]
    },
    {
     "name": "stdout",
     "output_type": "stream",
     "text": [
      "Train Loss: 0.0428\n"
     ]
    },
    {
     "name": "stderr",
     "output_type": "stream",
     "text": [
      "                                                                   \r"
     ]
    },
    {
     "name": "stdout",
     "output_type": "stream",
     "text": [
      "Test Loss: 0.0347, Accuracy: 1.00\n",
      "Epoch 5/10\n"
     ]
    },
    {
     "name": "stderr",
     "output_type": "stream",
     "text": [
      "                                                                       \r"
     ]
    },
    {
     "name": "stdout",
     "output_type": "stream",
     "text": [
      "Train Loss: 0.0283\n"
     ]
    },
    {
     "name": "stderr",
     "output_type": "stream",
     "text": [
      "                                                           \r"
     ]
    },
    {
     "name": "stdout",
     "output_type": "stream",
     "text": [
      "Test Loss: 0.0244, Accuracy: 1.00\n",
      "Epoch 6/10\n"
     ]
    },
    {
     "name": "stderr",
     "output_type": "stream",
     "text": [
      "                                                                       \r"
     ]
    },
    {
     "name": "stdout",
     "output_type": "stream",
     "text": [
      "Train Loss: 0.0206\n"
     ]
    },
    {
     "name": "stderr",
     "output_type": "stream",
     "text": [
      "                                                           \r"
     ]
    },
    {
     "name": "stdout",
     "output_type": "stream",
     "text": [
      "Test Loss: 0.0184, Accuracy: 1.00\n",
      "Epoch 7/10\n"
     ]
    },
    {
     "name": "stderr",
     "output_type": "stream",
     "text": [
      "                                                                       \r"
     ]
    },
    {
     "name": "stdout",
     "output_type": "stream",
     "text": [
      "Train Loss: 0.0159\n"
     ]
    },
    {
     "name": "stderr",
     "output_type": "stream",
     "text": [
      "                                                           \r"
     ]
    },
    {
     "name": "stdout",
     "output_type": "stream",
     "text": [
      "Test Loss: 0.0146, Accuracy: 1.00\n",
      "Epoch 8/10\n"
     ]
    },
    {
     "name": "stderr",
     "output_type": "stream",
     "text": [
      "                                                                        \r"
     ]
    },
    {
     "name": "stdout",
     "output_type": "stream",
     "text": [
      "Train Loss: 0.0129\n"
     ]
    },
    {
     "name": "stderr",
     "output_type": "stream",
     "text": [
      "                                                           \r"
     ]
    },
    {
     "name": "stdout",
     "output_type": "stream",
     "text": [
      "Test Loss: 0.0120, Accuracy: 1.00\n",
      "Epoch 9/10\n"
     ]
    },
    {
     "name": "stderr",
     "output_type": "stream",
     "text": [
      "                                                                        \r"
     ]
    },
    {
     "name": "stdout",
     "output_type": "stream",
     "text": [
      "Train Loss: 0.0107\n"
     ]
    },
    {
     "name": "stderr",
     "output_type": "stream",
     "text": [
      "                                                            \r"
     ]
    },
    {
     "name": "stdout",
     "output_type": "stream",
     "text": [
      "Test Loss: 0.0101, Accuracy: 1.00\n",
      "Epoch 10/10\n"
     ]
    },
    {
     "name": "stderr",
     "output_type": "stream",
     "text": [
      "                                                                       \r"
     ]
    },
    {
     "name": "stdout",
     "output_type": "stream",
     "text": [
      "Train Loss: 0.0091\n"
     ]
    },
    {
     "name": "stderr",
     "output_type": "stream",
     "text": [
      "                                                            "
     ]
    },
    {
     "name": "stdout",
     "output_type": "stream",
     "text": [
      "Test Loss: 0.0087, Accuracy: 1.00\n"
     ]
    },
    {
     "name": "stderr",
     "output_type": "stream",
     "text": [
      "\r"
     ]
    }
   ],
   "source": [
    "train_dataset = DummyDataset(num_samples=800)\n",
    "test_dataset = DummyDataset(num_samples=200)\n",
    "train_loader = DataLoader(train_dataset, batch_size=32, shuffle=True)\n",
    "test_loader = DataLoader(test_dataset, batch_size=32)\n",
    "\n",
    "model = LinearModel2().to(device)\n",
    "criterion = nn.BCEWithLogitsLoss()\n",
    "optimizer = optim.SGD(model.parameters(), lr=0.01)  # Included for structure\n",
    "trainer = Trainer(model, train_loader, test_loader, criterion, optimizer, device)\n",
    "trainer.run(epochs=10)"
   ]
  },
  {
   "cell_type": "code",
   "execution_count": null,
   "id": "52b6bba5",
   "metadata": {},
   "outputs": [
    {
     "name": "stdout",
     "output_type": "stream",
     "text": [
      "### ----- Starting training for 5 epochs... ----- ###\n"
     ]
    },
    {
     "name": "stderr",
     "output_type": "stream",
     "text": [
      "  0%|          | 0/5 [00:00<?, ?it/s]"
     ]
    },
    {
     "name": "stderr",
     "output_type": "stream",
     "text": [
      "100%|██████████| 5/5 [00:00<00:00, 13.81it/s]\n"
     ]
    },
    {
     "name": "stdout",
     "output_type": "stream",
     "text": [
      "Final Train Loss: 0.24714624226093293 - Final Test Loss: 0.24100276827812195\n",
      "### ----- Training complete. Took 0.00 min, 0.38 sec. ----- ###\n",
      "### ----- Starting training for 5 epochs... ----- ###\n"
     ]
    },
    {
     "name": "stderr",
     "output_type": "stream",
     "text": [
      "100%|██████████| 5/5 [00:00<00:00,  8.41it/s]\n"
     ]
    },
    {
     "name": "stdout",
     "output_type": "stream",
     "text": [
      "Final Train Loss: 0.2183944821357727 - Final Test Loss: 0.2159477323293686\n",
      "### ----- Training complete. Took 0.00 min, 0.60 sec. ----- ###\n",
      "### ----- Starting training for 5 epochs... ----- ###\n"
     ]
    },
    {
     "name": "stderr",
     "output_type": "stream",
     "text": [
      "100%|██████████| 5/5 [00:00<00:00, 12.56it/s]\n"
     ]
    },
    {
     "name": "stdout",
     "output_type": "stream",
     "text": [
      "Final Train Loss: 0.2019379097223282 - Final Test Loss: 0.17690345168113708\n",
      "### ----- Training complete. Took 0.00 min, 0.40 sec. ----- ###\n",
      "### ----- Starting training for 5 epochs... ----- ###\n"
     ]
    },
    {
     "name": "stderr",
     "output_type": "stream",
     "text": [
      "100%|██████████| 5/5 [00:00<00:00,  7.55it/s]\n"
     ]
    },
    {
     "name": "stdout",
     "output_type": "stream",
     "text": [
      "Final Train Loss: 0.012575814835727214 - Final Test Loss: 0.009721899926662446\n",
      "### ----- Training complete. Took 0.00 min, 0.67 sec. ----- ###\n",
      "### ----- Starting training for 5 epochs... ----- ###\n"
     ]
    },
    {
     "name": "stderr",
     "output_type": "stream",
     "text": [
      "100%|██████████| 5/5 [00:00<00:00,  7.74it/s]\n"
     ]
    },
    {
     "name": "stdout",
     "output_type": "stream",
     "text": [
      "Final Train Loss: 0.028038910329341887 - Final Test Loss: 0.022864044681191444\n",
      "### ----- Training complete. Took 0.00 min, 0.65 sec. ----- ###\n",
      "### ----- Starting training for 5 epochs... ----- ###\n"
     ]
    },
    {
     "name": "stderr",
     "output_type": "stream",
     "text": [
      "100%|██████████| 5/5 [00:01<00:00,  3.84it/s]"
     ]
    },
    {
     "name": "stdout",
     "output_type": "stream",
     "text": [
      "Final Train Loss: 1.2267228648852323e-05 - Final Test Loss: 8.859227455104701e-06\n",
      "### ----- Training complete. Took 0.00 min, 1.31 sec. ----- ###\n"
     ]
    },
    {
     "name": "stderr",
     "output_type": "stream",
     "text": [
      "\n"
     ]
    }
   ],
   "source": [
    "train_dataset = DummyDataset(num_samples=800)\n",
    "test_dataset = DummyDataset(num_samples=200)\n",
    "train_loader = DataLoader(train_dataset, batch_size=32, shuffle=True)\n",
    "test_loader = DataLoader(test_dataset, batch_size=32)\n",
    "\n",
    "models = [DummyModel().to(device), LinearModel1().to(device), LinearModel2().to(device)]\n",
    "criterion = nn.BCEWithLogitsLoss()\n",
    "\n",
    "for model in models:\n",
    "    optimizers = [optim.SGD(model.parameters(), lr=0.01), optim.Adam(model.parameters(), lr=0.001)]\n",
    "    for optimizer in optimizers:\n",
    "        trainer = Trainer(model, train_loader, test_loader, criterion, optimizer, device)\n",
    "        trainer.run(epochs=5)\n"
   ]
  }
 ],
 "metadata": {
  "kernelspec": {
   "display_name": "venv",
   "language": "python",
   "name": "python3"
  },
  "language_info": {
   "codemirror_mode": {
    "name": "ipython",
    "version": 3
   },
   "file_extension": ".py",
   "mimetype": "text/x-python",
   "name": "python",
   "nbconvert_exporter": "python",
   "pygments_lexer": "ipython3",
   "version": "3.11.9"
  }
 },
 "nbformat": 4,
 "nbformat_minor": 5
}
