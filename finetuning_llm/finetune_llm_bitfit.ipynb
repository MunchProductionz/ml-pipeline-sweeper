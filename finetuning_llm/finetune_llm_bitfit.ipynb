{
 "cells": [
  {
   "cell_type": "markdown",
   "id": "10ccbcc8",
   "metadata": {},
   "source": [
    "# FineTune LLM - BitFit"
   ]
  },
  {
   "cell_type": "code",
   "execution_count": 1,
   "id": "f5833c62",
   "metadata": {},
   "outputs": [
    {
     "ename": "ImportError",
     "evalue": "cannot import name 'BiasConfig' from 'peft' (c:\\Users\\henri\\Desktop\\NTNU\\5.Året\\Annet\\Prosjekter\\ml-pipeline-sweeper\\venv\\Lib\\site-packages\\peft\\__init__.py)",
     "output_type": "error",
     "traceback": [
      "\u001b[31m---------------------------------------------------------------------------\u001b[39m",
      "\u001b[31mImportError\u001b[39m                               Traceback (most recent call last)",
      "\u001b[36mCell\u001b[39m\u001b[36m \u001b[39m\u001b[32mIn[1]\u001b[39m\u001b[32m, line 15\u001b[39m\n\u001b[32m      6\u001b[39m \u001b[38;5;28;01mfrom\u001b[39;00m\u001b[38;5;250m \u001b[39m\u001b[34;01mdatasets\u001b[39;00m\u001b[38;5;250m \u001b[39m\u001b[38;5;28;01mimport\u001b[39;00m Dataset\n\u001b[32m      7\u001b[39m \u001b[38;5;28;01mfrom\u001b[39;00m\u001b[38;5;250m \u001b[39m\u001b[34;01mtransformers\u001b[39;00m\u001b[38;5;250m \u001b[39m\u001b[38;5;28;01mimport\u001b[39;00m (\n\u001b[32m      8\u001b[39m     AutoModelForCausalLM,\n\u001b[32m      9\u001b[39m     AutoTokenizer,\n\u001b[32m   (...)\u001b[39m\u001b[32m     13\u001b[39m     BitsAndBytesConfig\n\u001b[32m     14\u001b[39m )\n\u001b[32m---> \u001b[39m\u001b[32m15\u001b[39m \u001b[38;5;28;01mfrom\u001b[39;00m\u001b[38;5;250m \u001b[39m\u001b[34;01mpeft\u001b[39;00m\u001b[38;5;250m \u001b[39m\u001b[38;5;28;01mimport\u001b[39;00m BiasConfig, get_peft_model, prepare_model_for_kbit_training\n\u001b[32m     17\u001b[39m \u001b[38;5;66;03m################################################################################\u001b[39;00m\n\u001b[32m     18\u001b[39m \u001b[38;5;66;03m# 0. Environment & constants\u001b[39;00m\n\u001b[32m     19\u001b[39m \u001b[38;5;66;03m################################################################################\u001b[39;00m\n\u001b[32m     20\u001b[39m MODEL_ID = \u001b[33m\"\u001b[39m\u001b[33mTinyLlama/TinyLlama-1.1B-Chat-v1.0\u001b[39m\u001b[33m\"\u001b[39m\n",
      "\u001b[31mImportError\u001b[39m: cannot import name 'BiasConfig' from 'peft' (c:\\Users\\henri\\Desktop\\NTNU\\5.Året\\Annet\\Prosjekter\\ml-pipeline-sweeper\\venv\\Lib\\site-packages\\peft\\__init__.py)"
     ]
    }
   ],
   "source": [
    "\"\"\"\n",
    "Self-contained BitFit (bias vectors) fine-tuning demo on TinyLlama-1.1B-Chat.\n",
    "\"\"\"\n",
    "import os\n",
    "import torch\n",
    "from datasets import Dataset\n",
    "from transformers import (\n",
    "    AutoModelForCausalLM,\n",
    "    AutoTokenizer,\n",
    "    DataCollatorForLanguageModeling,\n",
    "    Trainer,\n",
    "    TrainingArguments,\n",
    "    BitsAndBytesConfig\n",
    ")\n",
    "from peft import BiasConfig, get_peft_model, prepare_model_for_kbit_training\n",
    "\n",
    "################################################################################\n",
    "# 0. Environment & constants\n",
    "################################################################################\n",
    "MODEL_ID = \"TinyLlama/TinyLlama-1.1B-Chat-v1.0\"\n",
    "USE_8BIT = True                 # flip to False for full-precision CPU run\n",
    "HF_PUSH_REPO = \"YOUR_USERNAME/tinyllama-lora-demo\"   # change to your org/repo\n",
    "MAX_SEQ_LEN = 256\n",
    "\n",
    "device = \"cuda\" if torch.cuda.is_available() else \"cpu\"\n",
    "print(f\"Running on {device}. 8-bit: {USE_8BIT}\")"
   ]
  },
  {
   "cell_type": "code",
   "execution_count": null,
   "id": "3d9168b1",
   "metadata": {},
   "outputs": [],
   "source": [
    "class BitFitFineTuner:\n",
    "    \"\"\"\n",
    "    Wraps simple BitFit (bias vectors) fine-tuning behind an easy interface so it mirrors\n",
    "    DistillationFineTuner.\n",
    "    \"\"\"\n",
    "    def __init__(\n",
    "        self,\n",
    "        base_model_id: str,\n",
    "        train_dataset,\n",
    "        eval_dataset,\n",
    "        rank: int = 16,\n",
    "        alpha: int = 32,\n",
    "        dropout: float = 0.05,\n",
    "        **training_args_kwargs\n",
    "    ):\n",
    "        self.tokenizer = AutoTokenizer.from_pretrained(base_model_id)\n",
    "        self.tokenizer.pad_token = self.tokenizer.eos_token\n",
    "\n",
    "        bnb_cfg = BitsAndBytesConfig(\n",
    "            load_in_8bit=True,\n",
    "        )\n",
    "\n",
    "        model = AutoModelForCausalLM.from_pretrained(\n",
    "            base_model_id, quantization_config=bnb_cfg, device_map=\"auto\"\n",
    "        )\n",
    "        model = prepare_model_for_kbit_training(model)\n",
    "\n",
    "        bias_cfg = BiasConfig(  # Different from LoRA\n",
    "            bias_type=\"all\",          # train every bias term\n",
    "            task_type=\"CAUSAL_LM\"\n",
    "        )\n",
    "        self.model = get_peft_model(model, bias_cfg)    # Different from LoRA\n",
    "\n",
    "        args = TrainingArguments(**training_args_kwargs)\n",
    "        self.trainer = Trainer(\n",
    "            model=self.model,\n",
    "            args=args,\n",
    "            data_collator=DataCollatorForLanguageModeling(self.tokenizer, mlm=False),\n",
    "            train_dataset=train_dataset,\n",
    "            eval_dataset=eval_dataset,\n",
    "        )\n",
    "\n",
    "    def train(self):\n",
    "        return self.trainer.train()\n",
    "\n",
    "    @torch.no_grad()\n",
    "    def generate(self, prompt: str, max_new_tokens: int = 40):\n",
    "        device = next(self.model.parameters()).device\n",
    "        ids = self.tokenizer(prompt, return_tensors=\"pt\").to(device)\n",
    "        out = self.model.generate(\n",
    "            **ids,\n",
    "            max_new_tokens=max_new_tokens,\n",
    "            pad_token_id=self.tokenizer.eos_token_id\n",
    "        )\n",
    "        return self.tokenizer.decode(out[0], skip_special_tokens=True)\n",
    "\n",
    "    def push_to_hub(self, repo_id: str):\n",
    "        self.model.push_to_hub(repo_id, use_auth_token=True)\n",
    "        self.tokenizer.push_to_hub(repo_id, use_auth_token=True)"
   ]
  },
  {
   "cell_type": "code",
   "execution_count": null,
   "id": "f082d0a4",
   "metadata": {},
   "outputs": [],
   "source": [
    "MODEL_ID = \"TinyLlama/TinyLlama-1.1B-Chat-v1.0\"\n",
    "device = \"cuda\" if torch.cuda.is_available() else \"cpu\"\n",
    "\n",
    "tokenizer = AutoTokenizer.from_pretrained(MODEL_ID)\n",
    "tokenizer.pad_token = tokenizer.eos_token\n",
    "\n",
    "# --- Toy dataset --- #\n",
    "examples = [\n",
    "    {\"text\": \"### User:\\nTranslate 'Good morning' to Spanish.\\n### Assistant:\\n\"},\n",
    "    {\"text\": \"### User:\\nSummarise: 'The cat sat on the mat.'\\n### Assistant:\\n\"},\n",
    "    {\"text\": \"### User:\\nList three primary colours.\\n### Assistant:\\n\"},\n",
    "    {\"text\": \"### User:\\nWhat is 2 + 2?\\n### Assistant:\\n\"},\n",
    "    {\"text\": \"### User:\\nRewrite 'I like apples' in the past tense.\\n### Assistant:\\n\"},\n",
    "]\n",
    "def tok_fn(e): return tokenizer(\n",
    "    e[\"text\"], max_length=256, truncation=True, padding=\"max_length\"\n",
    ")\n",
    "ds = Dataset.from_list(examples).train_test_split(test_size=0.4, seed=0)\n",
    "ds_tok = ds.map(tok_fn, remove_columns=[\"text\"])"
   ]
  },
  {
   "cell_type": "code",
   "execution_count": null,
   "id": "7a3674e2",
   "metadata": {},
   "outputs": [],
   "source": [
    "bitfit_ft = BitFitFineTuner(\n",
    "    base_model_id=MODEL_ID,\n",
    "    train_dataset=ds_tok[\"train\"],\n",
    "    eval_dataset=ds_tok[\"test\"],\n",
    "    output_dir=\"./bitfit_out\",\n",
    "    num_train_epochs=1,\n",
    "    per_device_train_batch_size=4,\n",
    "    learning_rate=2e-4,\n",
    "    logging_steps=1,\n",
    "    optim=\"paged_adamw_8bit\",\n",
    "    report_to=[],\n",
    ")\n",
    "bitfit_ft.train()\n",
    "print(bitfit_ft.generate(\"### User:\\nWhat is 2 + 2?\\n### Assistant:\\n\"))"
   ]
  }
 ],
 "metadata": {
  "kernelspec": {
   "display_name": "venv",
   "language": "python",
   "name": "python3"
  },
  "language_info": {
   "codemirror_mode": {
    "name": "ipython",
    "version": 3
   },
   "file_extension": ".py",
   "mimetype": "text/x-python",
   "name": "python",
   "nbconvert_exporter": "python",
   "pygments_lexer": "ipython3",
   "version": "3.11.9"
  }
 },
 "nbformat": 4,
 "nbformat_minor": 5
}
